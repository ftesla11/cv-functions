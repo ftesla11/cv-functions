{
 "metadata": {
  "language_info": {
   "codemirror_mode": {
    "name": "ipython",
    "version": 3
   },
   "file_extension": ".py",
   "mimetype": "text/x-python",
   "name": "python",
   "nbconvert_exporter": "python",
   "pygments_lexer": "ipython3",
   "version": "3.8.5-final"
  },
  "orig_nbformat": 2,
  "kernelspec": {
   "name": "python3",
   "display_name": "Python 3.8.5 64-bit (conda)",
   "metadata": {
    "interpreter": {
     "hash": "6a267008990d7b3f1d3ebce10cbcacbf117079c8bfe3a065af3a14fc1c0ce961"
    }
   }
  }
 },
 "nbformat": 4,
 "nbformat_minor": 2,
 "cells": [
  {
   "cell_type": "code",
   "execution_count": null,
   "metadata": {},
   "outputs": [],
   "source": [
    "from utilities import *"
   ]
  },
  {
   "source": [
    "# Question 1 - Transformations"
   ],
   "cell_type": "markdown",
   "metadata": {}
  },
  {
   "source": [
    "### create image with a name"
   ],
   "cell_type": "markdown",
   "metadata": {}
  },
  {
   "cell_type": "code",
   "execution_count": null,
   "metadata": {},
   "outputs": [],
   "source": [
    "img = ICV_create_name('Hai', 'Name')\n",
    "ICV_show_img(img, 'Name')"
   ]
  },
  {
   "source": [
    "## Question 1B"
   ],
   "cell_type": "markdown",
   "metadata": {}
  },
  {
   "source": [
    "### Rotate 30 degrees"
   ],
   "cell_type": "markdown",
   "metadata": {}
  },
  {
   "cell_type": "code",
   "execution_count": null,
   "metadata": {},
   "outputs": [],
   "source": [
    "angle = 30\n",
    "\n",
    "# perform rotation\n",
    "r_img = ICV_rotate(img, angle)\n",
    "\n",
    "# display output image after transformation\n",
    "ICV_show_img(r_img, 'Rotated {}'.format(angle))\n",
    "cv2.imwrite('figures/transformations/rotate{}.jpg'.format(angle), r_img)"
   ]
  },
  {
   "source": [
    "### Rotate 60 degrees"
   ],
   "cell_type": "markdown",
   "metadata": {}
  },
  {
   "cell_type": "code",
   "execution_count": null,
   "metadata": {},
   "outputs": [],
   "source": [
    "angle = 60\n",
    "\n",
    "# perform rotation\n",
    "r_img = ICV_rotate(img, angle)\n",
    "\n",
    "# display output image\n",
    "ICV_show_img(r_img, 'Rotated {}'.format(angle))\n",
    "cv2.imwrite('figures/transformations/rotate{}.jpg'.format(angle), r_img)"
   ]
  },
  {
   "source": [
    "### Rotate 120 degrees"
   ],
   "cell_type": "markdown",
   "metadata": {}
  },
  {
   "cell_type": "code",
   "execution_count": null,
   "metadata": {},
   "outputs": [],
   "source": [
    "angle = 120\n",
    "\n",
    "# perform rotation\n",
    "r_img = ICV_rotate(img, angle)\n",
    "\n",
    "# display output image\n",
    "ICV_show_img(r_img, 'Rotated {}'.format(angle))\n",
    "cv2.imwrite('figures/transformations/rotate{}.jpg'.format(angle), r_img)"
   ]
  },
  {
   "source": [
    "### Rotate -50 degrees"
   ],
   "cell_type": "markdown",
   "metadata": {}
  },
  {
   "cell_type": "code",
   "execution_count": null,
   "metadata": {},
   "outputs": [],
   "source": [
    "angle = -50\n",
    "\n",
    "# perform rotation\n",
    "r_img = ICV_rotate(img, angle)\n",
    "\n",
    "# display output image\n",
    "ICV_show_img(r_img, 'Rotated {}'.format(angle))\n",
    "cv2.imwrite('figures/transformations/rotate{}.jpg'.format(angle), r_img)"
   ]
  },
  {
   "source": [
    "### Skew 10 degrees"
   ],
   "cell_type": "markdown",
   "metadata": {}
  },
  {
   "cell_type": "code",
   "execution_count": null,
   "metadata": {},
   "outputs": [],
   "source": [
    "angle = 10\n",
    "\n",
    "# perform skewing\n",
    "skewed_img = ICV_skew(img, angle)\n",
    "\n",
    "# display output image\n",
    "ICV_show_img(skewed_img, 'Skewed')\n",
    "cv2.imwrite('figures/transformations/skew{}.jpg'.format(angle), skewed_img)"
   ]
  },
  {
   "source": [
    "### Skew 40 degrees"
   ],
   "cell_type": "markdown",
   "metadata": {}
  },
  {
   "cell_type": "code",
   "execution_count": null,
   "metadata": {},
   "outputs": [],
   "source": [
    "angle = 40\n",
    "\n",
    "# perform skewing\n",
    "skewed_img = ICV_skew(img, angle)\n",
    "\n",
    "# display output image\n",
    "ICV_show_img(skewed_img, 'Skewed')\n",
    "cv2.imwrite('figures/transformations/skew{}.jpg'.format(angle), skewed_img)"
   ]
  },
  {
   "source": [
    "### Skew 60 degrees"
   ],
   "cell_type": "markdown",
   "metadata": {}
  },
  {
   "cell_type": "code",
   "execution_count": null,
   "metadata": {},
   "outputs": [],
   "source": [
    "angle = 60\n",
    "\n",
    "# perform skewing\n",
    "skewed_img = ICV_skew(img, angle)\n",
    "\n",
    "# display output image\n",
    "ICV_show_img(skewed_img, 'Skewed')\n",
    "cv2.imwrite('figures/transformations/skew{}.jpg'.format(angle), skewed_img)"
   ]
  },
  {
   "source": [
    "## Question 1C"
   ],
   "cell_type": "markdown",
   "metadata": {}
  },
  {
   "source": [
    "### Rotate 20 degrees then skew 50 degrees"
   ],
   "cell_type": "markdown",
   "metadata": {}
  },
  {
   "cell_type": "code",
   "execution_count": null,
   "metadata": {},
   "outputs": [],
   "source": [
    "# perform rotation\n",
    "new_img = ICV_rotate(img, 20)\n",
    "\n",
    "# perform skewing on the new image\n",
    "new_img = ICV_skew(new_img, 50)\n",
    "\n",
    "# display output image\n",
    "ICV_show_img(new_img, 'rotate20_skew50.jpg')\n",
    "cv2.imwrite('figures/transformations/rotate20_skew50.jpg', new_img)"
   ]
  },
  {
   "source": [
    "### Skew 50 degrees then rotate 20 degrees"
   ],
   "cell_type": "markdown",
   "metadata": {}
  },
  {
   "cell_type": "code",
   "execution_count": null,
   "metadata": {},
   "outputs": [],
   "source": [
    "# perform skewing\n",
    "new_img = ICV_skew(img, 50)\n",
    "\n",
    "# perform rotation\n",
    "new_img = ICV_rotate(new_img, 20)\n",
    "\n",
    "# display output image\n",
    "ICV_show_img(new_img, 'skew50_rotate20.jpg')\n",
    "cv2.imwrite('figures/transformations/skew50_rotate20.jpg', new_img)"
   ]
  },
  {
   "source": [
    "# Question 2 - Convolutions"
   ],
   "cell_type": "markdown",
   "metadata": {}
  },
  {
   "cell_type": "code",
   "execution_count": null,
   "metadata": {},
   "outputs": [],
   "source": [
    "img = cv2.imread('Dataset/DatasetA/car-1.jpg')"
   ]
  },
  {
   "source": [
    "## Question 2B"
   ],
   "cell_type": "markdown",
   "metadata": {}
  },
  {
   "source": [
    "### Initialisation of kernel for Average Intensity Convolution"
   ],
   "cell_type": "markdown",
   "metadata": {}
  },
  {
   "cell_type": "code",
   "execution_count": null,
   "metadata": {
    "tags": []
   },
   "outputs": [],
   "source": [
    "# kernel for computing average of neighbors\n",
    "kernel_mean = np.array([\n",
    "    [1, 1, 1],\n",
    "    [1, 1, 1],\n",
    "    [1, 1, 1]\n",
    "])\n",
    "\n",
    "# normalise\n",
    "kernel_mean = kernel_mean/kernel_mean.size\n",
    "\n",
    "# apply convolution\n",
    "mean_img = ICV_apply_kernel(img, kernel_mean)\n",
    "ICV_show_img(mean_img, 'Mean Filter')\n",
    "cv2.imwrite('figures/convolutions/average_intensity.jpg', mean_img)"
   ]
  },
  {
   "source": [
    "## Question 2C"
   ],
   "cell_type": "markdown",
   "metadata": {}
  },
  {
   "source": [
    "### Initialisation of Kernel A and kernel B"
   ],
   "cell_type": "markdown",
   "metadata": {}
  },
  {
   "cell_type": "code",
   "execution_count": null,
   "metadata": {},
   "outputs": [],
   "source": [
    "# kernel A\n",
    "kernel_A = np.array([\n",
    "    [1, 2, 1],\n",
    "    [2, 4, 2],    \n",
    "    [1, 2, 1]\n",
    "])\n",
    "\n",
    "# normalise kernel A\n",
    "sum_A = np.sum(kernel_A)\n",
    "kernel_A = kernel_A/sum_A\n",
    "\n",
    "# kernel B\n",
    "kernel_B = np.array([\n",
    "    [0, 1, 0],\n",
    "    [1, -4, 1],\n",
    "    [0, 1, 0]\n",
    "])"
   ]
  },
  {
   "source": [
    "### Apply Kernel A"
   ],
   "cell_type": "markdown",
   "metadata": {}
  },
  {
   "cell_type": "code",
   "execution_count": null,
   "metadata": {
    "tags": []
   },
   "outputs": [],
   "source": [
    "# apply convolution with kernel A\n",
    "A_img = ICV_apply_kernel(img, kernel_A)\n",
    "ICV_show_img(A_img, 'Kernel A')\n",
    "cv2.imwrite('figures/convolutions/img_A.jpg', A_img)"
   ]
  },
  {
   "source": [
    "### Apply Kernel B"
   ],
   "cell_type": "markdown",
   "metadata": {}
  },
  {
   "cell_type": "code",
   "execution_count": null,
   "metadata": {
    "tags": []
   },
   "outputs": [],
   "source": [
    "# apply convolution with kernel B\n",
    "B_img = ICV_apply_kernel(img, kernel_B)\n",
    "ICV_show_img(B_img, 'Kernel B')\n",
    "cv2.imwrite('figures/convolutions/img_B.jpg', B_img)"
   ]
  },
  {
   "source": [
    "## Question 2D"
   ],
   "cell_type": "markdown",
   "metadata": {}
  },
  {
   "source": [
    "### Kernel A followed by kernel A"
   ],
   "cell_type": "markdown",
   "metadata": {}
  },
  {
   "cell_type": "code",
   "execution_count": null,
   "metadata": {
    "tags": []
   },
   "outputs": [],
   "source": [
    "# apply convolution with Kernel A\n",
    "A_A = ICV_apply_kernel(img, kernel_A)\n",
    "\n",
    "# apply convolution with kernel A for a second time\n",
    "A_A = ICV_apply_kernel(A_A, kernel_A)\n",
    "ICV_show_img(A_A, 'img_AA')\n",
    "cv2.imwrite('figures/convolutions/img_AA.jpg', A_A)"
   ]
  },
  {
   "source": [
    "### Kernel A followed by kernel B"
   ],
   "cell_type": "markdown",
   "metadata": {}
  },
  {
   "cell_type": "code",
   "execution_count": null,
   "metadata": {},
   "outputs": [],
   "source": [
    "# apply convolution with kernel A\n",
    "A_B = ICV_apply_kernel(img, kernel_A)\n",
    "\n",
    "# apply convolution with kernel B\n",
    "A_B = ICV_apply_kernel(A_B, kernel_B)\n",
    "ICV_show_img(A_B, 'img_AB')\n",
    "cv2.imwrite('figures/convolutions/img_AB.jpg', A_B)"
   ]
  },
  {
   "source": [
    "### Kernel B followed by kernel A"
   ],
   "cell_type": "markdown",
   "metadata": {}
  },
  {
   "cell_type": "code",
   "execution_count": null,
   "metadata": {},
   "outputs": [],
   "source": [
    "# apply convolution with kernel B\n",
    "B_A = ICV_apply_kernel(img, kernel_B)\n",
    "\n",
    "# apply convolution with kernel A\n",
    "B_A = ICV_apply_kernel(B_A, kernel_A)\n",
    "ICV_show_img(B_A, 'img_BA')\n",
    "cv2.imwrite('figures/convolutions/img_BA.jpg', B_A)"
   ]
  },
  {
   "source": [
    "# Question 3 - Histogram and Video Segmentation"
   ],
   "cell_type": "markdown",
   "metadata": {}
  },
  {
   "source": [
    "## Question 3A"
   ],
   "cell_type": "markdown",
   "metadata": {}
  },
  {
   "cell_type": "code",
   "execution_count": null,
   "metadata": {},
   "outputs": [],
   "source": [
    "path = 'Dataset/DatasetB.avi'"
   ]
  },
  {
   "source": [
    "### Get frames from video sequence"
   ],
   "cell_type": "markdown",
   "metadata": {}
  },
  {
   "cell_type": "code",
   "execution_count": null,
   "metadata": {},
   "outputs": [],
   "source": [
    "frames = ICV_get_frames(path, 1)"
   ]
  },
  {
   "source": [
    "### Save the frames"
   ],
   "cell_type": "markdown",
   "metadata": {}
  },
  {
   "cell_type": "code",
   "execution_count": null,
   "metadata": {},
   "outputs": [],
   "source": [
    "cv2.imwrite('figures/histogram/first_frame.png', frames[0])\n",
    "cv2.imwrite('figures/histogram/second_frame.png', frames[1])\n",
    "cv2.imwrite('figures/histogram/last_frame.png', frames[len(frames)-1])"
   ]
  },
  {
   "source": [
    "### Create histograms for consecutive and non-consecutive frames in a video sequence"
   ],
   "cell_type": "markdown",
   "metadata": {}
  },
  {
   "cell_type": "code",
   "execution_count": null,
   "metadata": {},
   "outputs": [],
   "source": [
    "# generate histogram for first frame of the video sequence\n",
    "first_histogram = ICV_create_hist(frames[0])\n",
    "\n",
    "# plot and save the histogram for the first frame\n",
    "ICV_plot_histogram(first_histogram, 'figures/histogram/first_histogram.png')\n",
    "\n",
    "# generate histogram for second frame of the video sequence\n",
    "second_histogram = ICV_create_hist(frames[1])\n",
    "\n",
    "# plot and save the histogram for the second frame\n",
    "ICV_plot_histogram(second_histogram, 'figures/histogram/second_histogram.png')\n",
    "\n",
    "# generate histogram for last frame of the video sequence\n",
    "last_histogram = ICV_create_hist(frames[len(frames)-1])\n",
    "\n",
    "# plot and save the histogram for the last frame\n",
    "ICV_plot_histogram(last_histogram, 'figures/histogram/last_histogram.png')"
   ]
  },
  {
   "source": [
    "## Question 3B"
   ],
   "cell_type": "markdown",
   "metadata": {}
  },
  {
   "source": [
    "### Histogram intersection of non-consecutive frames"
   ],
   "cell_type": "markdown",
   "metadata": {}
  },
  {
   "cell_type": "code",
   "execution_count": null,
   "metadata": {},
   "outputs": [],
   "source": [
    "# compute histogram intersection for first frame and last frame\n",
    "non_consecutive_intersection = ICV_hist_intersection(first_histogram, last_histogram)\n",
    "non_consecutive_intersection"
   ]
  },
  {
   "source": [
    "### Histogram intersection of consecutive frames"
   ],
   "cell_type": "markdown",
   "metadata": {}
  },
  {
   "cell_type": "code",
   "execution_count": null,
   "metadata": {},
   "outputs": [],
   "source": [
    "# compute histogram intersection for first frame and second frame\n",
    "consecutive_intersection = ICV_hist_intersection(first_histogram, second_histogram)\n",
    "consecutive_intersection"
   ]
  },
  {
   "source": [
    "### Histogram intersections of a video sequence"
   ],
   "cell_type": "markdown",
   "metadata": {}
  },
  {
   "cell_type": "code",
   "execution_count": null,
   "metadata": {},
   "outputs": [],
   "source": [
    "# compute histogram intersections for all colour channels in the video sequence over time\n",
    "blue_intersections = ICV_get_intersections(frames, 0)\n",
    "green_intersections = ICV_get_intersections(frames, 1)\n",
    "red_intersections = ICV_get_intersections(frames, 2)"
   ]
  },
  {
   "source": [
    "### Normalized histogram intersections"
   ],
   "cell_type": "markdown",
   "metadata": {}
  },
  {
   "cell_type": "code",
   "execution_count": null,
   "metadata": {},
   "outputs": [],
   "source": [
    "number_of_pixels = np.array(frames).shape[1] * np.array(frames).shape[2]\n",
    "\n",
    "# normalize the intersections obtained from previous cell\n",
    "blue_normalized = ICV_normalize_intersections(blue_intersections, number_of_pixels)\n",
    "red_normalized = ICV_normalize_intersections(red_intersections, number_of_pixels)\n",
    "green_normalized = ICV_normalize_intersections(green_intersections, number_of_pixels)\n"
   ]
  },
  {
   "source": [
    "### Bar graph of histogram intersections"
   ],
   "cell_type": "markdown",
   "metadata": {}
  },
  {
   "cell_type": "code",
   "execution_count": null,
   "metadata": {},
   "outputs": [],
   "source": [
    "ICV_plot_intersections(frames, (blue_intersections, green_intersections, red_intersections), 'bar', 'figures/histogram/video_intersection_bar.png')"
   ]
  },
  {
   "source": [
    "### Line graph of normalized histogram intersections"
   ],
   "cell_type": "markdown",
   "metadata": {}
  },
  {
   "cell_type": "code",
   "execution_count": null,
   "metadata": {},
   "outputs": [],
   "source": [
    "ICV_plot_intersections(frames, (blue_intersections, green_intersections, red_intersections), 'line', 'figures/histogram/video_intersection_line.png')"
   ]
  },
  {
   "source": [
    "### Line graph of histogram intersections"
   ],
   "cell_type": "markdown",
   "metadata": {}
  },
  {
   "cell_type": "code",
   "execution_count": null,
   "metadata": {},
   "outputs": [],
   "source": [
    "ICV_plot_intersections(frames, (blue_normalized, green_normalized, red_normalized), 'bar', 'figures/histogram/video_intersection_normalized_bar.png')"
   ]
  },
  {
   "source": [
    "### Line graph of normalized histogram intersections"
   ],
   "cell_type": "markdown",
   "metadata": {}
  },
  {
   "cell_type": "code",
   "execution_count": null,
   "metadata": {},
   "outputs": [],
   "source": [
    "ICV_plot_intersections(frames, (blue_normalized, green_normalized, red_normalized), 'line', 'figures/histogram/video_intersection_normalized_line.png')"
   ]
  },
  {
   "source": [
    "# Question 4 - Texture Descriptors and Classification"
   ],
   "cell_type": "markdown",
   "metadata": {}
  },
  {
   "source": [
    "### Set the window size and the index of the window to be used"
   ],
   "cell_type": "markdown",
   "metadata": {}
  },
  {
   "cell_type": "code",
   "execution_count": null,
   "metadata": {},
   "outputs": [],
   "source": [
    "window_size = 32\n",
    "index = 0"
   ]
  },
  {
   "source": [
    "### Car 3 - obtain feature descriptors and global descriptor"
   ],
   "cell_type": "markdown",
   "metadata": {}
  },
  {
   "cell_type": "code",
   "execution_count": null,
   "metadata": {},
   "outputs": [],
   "source": [
    "# set the car image to use\n",
    "car = 3\n",
    "img = cv2.imread('Dataset/DatasetA/car-{}.jpg'.format(car))\n",
    "windows = ICV_to_windows(img, window_size)\n",
    "\n",
    "# get feature descriptors and windows after applying LBP\n",
    "fd, lbp_windows = ICV_get_fd(img, window_size)\n",
    "\n",
    "# normalise the feature descriptors\n",
    "fd = np.array(fd) / ((window_size)*(window_size))\n",
    "\n",
    "# get global descriptor\n",
    "gd_car_3 = ICV_get_gd(fd)\n",
    "\n",
    "\n",
    "ICV_show_img(windows[index], '{}x{} window of original car-{}'.format(window_size, window_size, car))\n",
    "cv2.imwrite('figures/texture/{}x{} window of original car-{}.jpg'.format(window_size, window_size, car), windows[index])\n",
    "\n",
    "ICV_show_img(lbp_windows[index], '{}x{} window of LBP car-{}'.format(window_size, window_size, car))\n",
    "cv2.imwrite('figures/texture/{}x{} window of LBP car-{}.jpg'.format(window_size, window_size, car), lbp_windows[index])"
   ]
  },
  {
   "source": [
    "### Car 3 - first window feature descriptor histogram"
   ],
   "cell_type": "markdown",
   "metadata": {}
  },
  {
   "cell_type": "code",
   "execution_count": null,
   "metadata": {},
   "outputs": [],
   "source": [
    "lbp_hist = fd[index]\n",
    "\n",
    "x = np.arange(0, 256)\n",
    "\n",
    "fig = plt.figure(figsize = (12,6))\n",
    "ax = fig.add_subplot(111)\n",
    "ax.bar(x, lbp_hist)\n",
    "ax.set_xticks(np.arange(len(x)))\n",
    "plt.tick_params(\n",
    "    axis='x',          \n",
    "    which='both',      \n",
    "    bottom=False,     \n",
    "    top=False,         \n",
    "    labelbottom=False) \n",
    "plt.ylabel('Count')\n",
    "plt.xlabel('Intensity')\n",
    "plt.title('LBP Histogram')\n",
    "fig.savefig('figures/texture/{}x{} LBP histogram of car-{}'.format(window_size, window_size, car))"
   ]
  },
  {
   "source": [
    "### Car 3 - global descriptor histogram"
   ],
   "cell_type": "markdown",
   "metadata": {}
  },
  {
   "cell_type": "code",
   "execution_count": null,
   "metadata": {},
   "outputs": [],
   "source": [
    "plt.ylabel('Count')\n",
    "plt.xlabel('Features')\n",
    "plt.title('Car-3 Descriptor')\n",
    "plt.plot(gd_car_3)\n",
    "plt.savefig('figures/texture/{}x{} car-3 descriptor.png'.format(window_size, window_size))"
   ]
  },
  {
   "source": [
    "### Car 2 - obtain feature descriptors and global descriptor"
   ],
   "cell_type": "markdown",
   "metadata": {}
  },
  {
   "cell_type": "code",
   "execution_count": null,
   "metadata": {},
   "outputs": [],
   "source": [
    "car = 2\n",
    "img = cv2.imread('Dataset/DatasetA/car-{}.jpg'.format(car))\n",
    "windows = ICV_to_windows(img, window_size)\n",
    "\n",
    "# get feature descriptors and windows after applying LBP\n",
    "fd, lbp_windows = ICV_get_fd(img, window_size)\n",
    "fd = np.array(fd) / ((window_size)*(window_size))\n",
    "\n",
    "# get global descriptor\n",
    "gd_car_2 = ICV_get_gd(fd)\n",
    "\n",
    "ICV_show_img(windows[index], '{}x{} window of original car-{}'.format(window_size, window_size, car))\n",
    "cv2.imwrite('figures/texture/{}x{} window of original car-{}.jpg'.format(window_size, window_size, car), windows[index])\n",
    "\n",
    "ICV_show_img(lbp_windows[index], '{}x{} window of LBP car-{}'.format(window_size, window_size, car))\n",
    "cv2.imwrite('figures/texture/{}x{} window of LBP car-{}.jpg'.format(window_size, window_size, car), lbp_windows[index])"
   ]
  },
  {
   "source": [
    "### Car 2 - first window feature descriptor histogram"
   ],
   "cell_type": "markdown",
   "metadata": {}
  },
  {
   "cell_type": "code",
   "execution_count": null,
   "metadata": {},
   "outputs": [],
   "source": [
    "lbp_hist = fd[index]\n",
    "\n",
    "x = np.arange(0, 256)\n",
    "\n",
    "fig = plt.figure(figsize = (12,6))\n",
    "ax = fig.add_subplot(111)\n",
    "ax.bar(x, lbp_hist)\n",
    "ax.set_xticks(np.arange(len(x)))\n",
    "plt.tick_params(\n",
    "    axis='x',          \n",
    "    which='both',      \n",
    "    bottom=False,      \n",
    "    top=False,        \n",
    "    labelbottom=False) \n",
    "plt.ylabel('Count')\n",
    "plt.xlabel('Intensity')\n",
    "plt.title('LBP Histogram')\n",
    "fig.savefig('figures/texture/{}x{} LBP histogram of car-{}'.format(window_size, window_size, car))"
   ]
  },
  {
   "source": [
    "### Intersection of car 3 and car 2 global descriptors"
   ],
   "cell_type": "markdown",
   "metadata": {}
  },
  {
   "cell_type": "code",
   "execution_count": null,
   "metadata": {},
   "outputs": [],
   "source": [
    "intersection = ICV_hist_intersection(gd_car_3, gd_car_2)\n",
    "intersection"
   ]
  },
  {
   "source": [
    "### Car 1 - obtain feature descriptors and global descriptor"
   ],
   "cell_type": "markdown",
   "metadata": {}
  },
  {
   "cell_type": "code",
   "execution_count": null,
   "metadata": {},
   "outputs": [],
   "source": [
    "car = 1\n",
    "img = cv2.imread('Dataset/DatasetA/car-{}.jpg'.format(car))\n",
    "windows = ICV_to_windows(img, window_size)\n",
    "\n",
    "# get feature descriptors and windows after applying LBP\n",
    "fd, lbp_windows = ICV_get_fd(img, window_size)\n",
    "fd = np.array(fd) / ((window_size)*(window_size))\n",
    "\n",
    "# get global descriptor\n",
    "gd_car_1 = ICV_get_gd(fd)\n",
    "\n",
    "ICV_show_img(windows[index], '{}x{} window of original car-{}'.format(window_size, window_size, car))\n",
    "cv2.imwrite('figures/texture/{}x{} window of original car-{}.jpg'.format(window_size, window_size, car), windows[index])\n",
    "\n",
    "ICV_show_img(lbp_windows[index], '{}x{} window of LBP car-{}'.format(window_size, window_size, car))\n",
    "cv2.imwrite('figures/texture/{}x{} window of LBP car-{}.jpg'.format(window_size, window_size, car), lbp_windows[index])"
   ]
  },
  {
   "source": [
    "### Car 1 - first window feature descriptor histogram"
   ],
   "cell_type": "markdown",
   "metadata": {}
  },
  {
   "cell_type": "code",
   "execution_count": null,
   "metadata": {},
   "outputs": [],
   "source": [
    "lbp_hist = fd[index]\n",
    "\n",
    "x = np.arange(0, 256)\n",
    "\n",
    "fig = plt.figure(figsize = (12,6))\n",
    "ax = fig.add_subplot(111)\n",
    "ax.bar(x, lbp_hist)\n",
    "ax.set_xticks(np.arange(len(x)))\n",
    "plt.tick_params(\n",
    "    axis='x',          \n",
    "    which='both',      \n",
    "    bottom=False,     \n",
    "    top=False,         \n",
    "    labelbottom=False) \n",
    "plt.ylabel('Count')\n",
    "plt.xlabel('Intensity')\n",
    "plt.title('LBP Histogram')\n",
    "fig.savefig('figures/texture/{}x{} LBP histogram of car-{}'.format(window_size, window_size, car))"
   ]
  },
  {
   "source": [
    "### Intersection of car 3 and car 1 global descriptors"
   ],
   "cell_type": "markdown",
   "metadata": {}
  },
  {
   "cell_type": "code",
   "execution_count": null,
   "metadata": {},
   "outputs": [],
   "source": [
    "intersection = ICV_hist_intersection(gd_car_3, gd_car_1)\n",
    "intersection"
   ]
  },
  {
   "source": [
    "### Face 1 - feature descriptors and global descriptor"
   ],
   "cell_type": "markdown",
   "metadata": {}
  },
  {
   "cell_type": "code",
   "execution_count": null,
   "metadata": {},
   "outputs": [],
   "source": [
    "face = 1\n",
    "img = cv2.imread('Dataset/DatasetA/face-{}.jpg'.format(face))\n",
    "windows = ICV_to_windows(img, window_size)\n",
    "\n",
    "# get feature descriptors and windows after applying LBP\n",
    "fd, lbp_windows = ICV_get_fd(img, window_size)\n",
    "fd = np.array(fd) / ((window_size)*(window_size))\n",
    "\n",
    "# get global descriptor\n",
    "gd_face_1 = ICV_get_gd(fd)\n",
    "\n",
    "ICV_show_img(windows[index], '{}x{} window of original face-{} image'.format(window_size, window_size, face))\n",
    "cv2.imwrite('figures/texture/{}x{} window of original face-{} image.jpg'.format(window_size, window_size, face), windows[index])\n",
    "\n",
    "ICV_show_img(lbp_windows[index], '{}x{} window of LBP face-{} image'.format(window_size, window_size, face))\n",
    "cv2.imwrite('figures/texture/{}x{} window of LBP face-{} image.jpg'.format(window_size, window_size, face), lbp_windows[index])"
   ]
  },
  {
   "source": [
    "### Face 1 - first window feature descriptor histogram"
   ],
   "cell_type": "markdown",
   "metadata": {}
  },
  {
   "cell_type": "code",
   "execution_count": null,
   "metadata": {},
   "outputs": [],
   "source": [
    "lbp_hist = fd[index]\n",
    "\n",
    "x = np.arange(0, 256)\n",
    "\n",
    "fig = plt.figure(figsize = (12,6))\n",
    "ax = fig.add_subplot(111)\n",
    "ax.bar(x, lbp_hist)\n",
    "ax.set_xticks(np.arange(len(x)))\n",
    "plt.tick_params(\n",
    "    axis='x',          \n",
    "    which='both',      \n",
    "    bottom=False,     \n",
    "    top=False,         \n",
    "    labelbottom=False) \n",
    "plt.ylabel('Count')\n",
    "plt.xlabel('Intensity')\n",
    "plt.title('LBP Histogram')\n",
    "fig.savefig('figures/texture/{}x{} LBP histogram of car-{}'.format(window_size, window_size, car))"
   ]
  },
  {
   "source": [
    "### Face 1 - global descriptor histogram"
   ],
   "cell_type": "markdown",
   "metadata": {}
  },
  {
   "cell_type": "code",
   "execution_count": null,
   "metadata": {},
   "outputs": [],
   "source": [
    "plt.ylabel('Count')\n",
    "plt.xlabel('Features')\n",
    "plt.title('Face-1 Descriptor')\n",
    "plt.plot(gd_face_1)\n",
    "plt.savefig('figures/texture/{}x{} face-1 descriptor.png'.format(window_size, window_size))"
   ]
  },
  {
   "source": [
    "### Intersection of car 3 and face 1 global descriptors"
   ],
   "cell_type": "markdown",
   "metadata": {}
  },
  {
   "cell_type": "code",
   "execution_count": null,
   "metadata": {},
   "outputs": [],
   "source": [
    "intersection = ICV_hist_intersection(gd_car_3, gd_face_1)\n",
    "intersection"
   ]
  },
  {
   "source": [
    "### Face 2 feature descriptors and global descriptor"
   ],
   "cell_type": "markdown",
   "metadata": {}
  },
  {
   "cell_type": "code",
   "execution_count": null,
   "metadata": {},
   "outputs": [],
   "source": [
    "face = 2\n",
    "img = cv2.imread('Dataset/DatasetA/face-{}.jpg'.format(face))\n",
    "windows = ICV_to_windows(img, window_size)\n",
    "\n",
    "# get feature descriptors and windows after applying LBP\n",
    "fd, lbp_windows = ICV_get_fd(img, window_size)\n",
    "fd = np.array(fd) / ((window_size)*(window_size))\n",
    "\n",
    "# get global descriptor\n",
    "gd_face_2 = ICV_get_gd(fd)\n",
    "\n",
    "ICV_show_img(windows[index], '{}x{} window of original face-{}'.format(window_size, window_size, face))\n",
    "cv2.imwrite('figures/texture/{}x{} window of original face-{}.jpg'.format(window_size, window_size, face), windows[index])\n",
    "\n",
    "ICV_show_img(lbp_windows[index], '{}x{} window of LBP face-{}'.format(window_size, window_size, face))\n",
    "cv2.imwrite('figures/texture/{}x{} window of LBP face-{}.jpg'.format(window_size, window_size, face), lbp_windows[index])"
   ]
  },
  {
   "source": [
    "### Face 2 - first window feature descriptor histogram"
   ],
   "cell_type": "markdown",
   "metadata": {}
  },
  {
   "cell_type": "code",
   "execution_count": null,
   "metadata": {},
   "outputs": [],
   "source": [
    "lbp_hist = fd[index]\n",
    "\n",
    "x = np.arange(0, 256)\n",
    "\n",
    "fig = plt.figure(figsize = (12,6))\n",
    "ax = fig.add_subplot(111)\n",
    "ax.bar(x, lbp_hist)\n",
    "ax.set_xticks(np.arange(len(x)))\n",
    "plt.tick_params(\n",
    "    axis='x',          \n",
    "    which='both',      \n",
    "    bottom=False,     \n",
    "    top=False,         \n",
    "    labelbottom=False) \n",
    "plt.ylabel('Count')\n",
    "plt.xlabel('Intensity')\n",
    "plt.title('LBP Histogram')\n",
    "fig.savefig('figures/texture/{}x{} LBP histogram of car-{}'.format(window_size, window_size, car))"
   ]
  },
  {
   "source": [
    "### Intersection of car 3 and face 2 global descriptors"
   ],
   "cell_type": "markdown",
   "metadata": {}
  },
  {
   "cell_type": "code",
   "execution_count": null,
   "metadata": {},
   "outputs": [],
   "source": [
    "intersection = ICV_hist_intersection(gd_car_3, gd_face_2)\n",
    "intersection"
   ]
  },
  {
   "source": [
    "### Face 3 feature descriptors and global descriptor"
   ],
   "cell_type": "markdown",
   "metadata": {}
  },
  {
   "cell_type": "code",
   "execution_count": null,
   "metadata": {},
   "outputs": [],
   "source": [
    "face = 3\n",
    "img = cv2.imread('Dataset/DatasetA/face-{}.jpg'.format(face))\n",
    "windows = ICV_to_windows(img, window_size)\n",
    "\n",
    "# get feature descriptors and windows after applying LBP\n",
    "fd, lbp_windows = ICV_get_fd(img, window_size)\n",
    "fd = np.array(fd) / ((window_size)*(window_size))\n",
    "\n",
    "# get global descriptor\n",
    "gd_face_3 = ICV_get_gd(fd)\n",
    "\n",
    "ICV_show_img(windows[index], '{}x{} window of original face-{}'.format(window_size, window_size, face))\n",
    "cv2.imwrite('figures/texture/{}x{} window of original face-{}.jpg'.format(window_size, window_size, face), windows[index])\n",
    "\n",
    "ICV_show_img(lbp_windows[index], '{}x{} window of LBP face-{}'.format(window_size, window_size, face))\n",
    "cv2.imwrite('figures/texture/{}x{} window of LBP face-{}.jpg'.format(window_size, window_size, face), lbp_windows[index])"
   ]
  },
  {
   "source": [
    "### Face 3 - first window feature descriptor histogram"
   ],
   "cell_type": "markdown",
   "metadata": {}
  },
  {
   "cell_type": "code",
   "execution_count": null,
   "metadata": {},
   "outputs": [],
   "source": [
    "lbp_hist = fd[index]\n",
    "\n",
    "x = np.arange(0, 256)\n",
    "\n",
    "fig = plt.figure(figsize = (12,6))\n",
    "ax = fig.add_subplot(111)\n",
    "ax.bar(x, lbp_hist)\n",
    "ax.set_xticks(np.arange(len(x)))\n",
    "plt.tick_params(\n",
    "    axis='x',          \n",
    "    which='both',      \n",
    "    bottom=False,     \n",
    "    top=False,         \n",
    "    labelbottom=False) \n",
    "plt.ylabel('Count')\n",
    "plt.xlabel('Intensity')\n",
    "plt.title('LBP Histogram')\n",
    "fig.savefig('figures/texture/{}x{} LBP histogram of car-{}'.format(window_size, window_size, car))"
   ]
  },
  {
   "source": [
    "### Intersection of car 3 and face 3 global descriptors"
   ],
   "cell_type": "markdown",
   "metadata": {}
  },
  {
   "cell_type": "code",
   "execution_count": null,
   "metadata": {},
   "outputs": [],
   "source": [
    "intersection = ICV_hist_intersection(gd_car_3, gd_face_3)\n",
    "intersection"
   ]
  },
  {
   "source": [
    "# Object Segmentation and Counting"
   ],
   "cell_type": "markdown",
   "metadata": {}
  },
  {
   "source": [
    "## Question 5A"
   ],
   "cell_type": "markdown",
   "metadata": {}
  },
  {
   "cell_type": "code",
   "execution_count": null,
   "metadata": {},
   "outputs": [],
   "source": [
    "path = 'Dataset/DatasetC.avi'"
   ]
  },
  {
   "cell_type": "code",
   "execution_count": null,
   "metadata": {},
   "outputs": [],
   "source": [
    "# set the threshold\n",
    "threshold = 50"
   ]
  },
  {
   "cell_type": "code",
   "execution_count": null,
   "metadata": {},
   "outputs": [],
   "source": [
    "# get frames from video sequence\n",
    "frames = ICV_get_frames(path, 0)\n",
    "ICV_show_img(frames[0], '1')\n",
    "cv2.imwrite('figures/object_segmentation/first_frame.png', frames[0])\n",
    "cv2.imwrite('figures/object_segmentation/middle_frame.png', frames[int(len(frames)/2)])\n",
    "cv2.imwrite('figures/object_segmentation/last_frame.png', frames[len(frames)-1])"
   ]
  },
  {
   "cell_type": "code",
   "execution_count": null,
   "metadata": {},
   "outputs": [],
   "source": [
    "ICV_play_video(frames)"
   ]
  },
  {
   "source": [
    "### Frame differencing with first frame as reference frame"
   ],
   "cell_type": "markdown",
   "metadata": {}
  },
  {
   "cell_type": "code",
   "execution_count": null,
   "metadata": {
    "tags": []
   },
   "outputs": [],
   "source": [
    "# frame differencing\n",
    "segmented_frames = ICV_compute_segmentation(frames, frames[0])\n",
    "ICV_play_video(segmented_frames)\n",
    "cv2.imwrite('figures/object_segmentation/first_frame_segmented.png', segmented_frames[0])\n",
    "cv2.imwrite('figures/object_segmentation/middle_frame_segmented.png', segmented_frames[int(len(frames)/2)])\n",
    "cv2.imwrite('figures/object_segmentation/last_frame_segmented.png', segmented_frames[len(segmented_frames)-1])"
   ]
  },
  {
   "source": [
    "### Applying classification threshold"
   ],
   "cell_type": "markdown",
   "metadata": {}
  },
  {
   "cell_type": "code",
   "execution_count": null,
   "metadata": {},
   "outputs": [],
   "source": [
    "# classification threshold\n",
    "classified_frames = ICV_threshold_classification(segmented_frames, threshold)\n",
    "ICV_play_video(classified_frames)\n",
    "cv2.imwrite('figures/object_segmentation/first_frame_classified.png', classified_frames[0])\n",
    "cv2.imwrite('figures/object_segmentation/middle_frame_classified.png', classified_frames[int(len(frames)/2)])\n",
    "cv2.imwrite('figures/object_segmentation/last_frame_classified.png', classified_frames[len(classified_frames)-1])"
   ]
  },
  {
   "source": [
    "## Question 5B"
   ],
   "cell_type": "markdown",
   "metadata": {}
  },
  {
   "source": [
    "### Frame differencing with previous frame as reference frame"
   ],
   "cell_type": "markdown",
   "metadata": {}
  },
  {
   "cell_type": "code",
   "execution_count": null,
   "metadata": {},
   "outputs": [],
   "source": [
    "# frame differencing from previous frame\n",
    "segmented_from_previous = ICV_segment_previous_frame(frames)\n",
    "ICV_play_video(segmented_from_previous)\n",
    "cv2.imwrite('figures/object_segmentation/segmented_from_previous_original.png', frames[1])\n",
    "cv2.imwrite('figures/object_segmentation/segmented_from_previous_original2.png', frames[len(frames)-1])\n",
    "cv2.imwrite('figures/object_segmentation/segmented_from_previous.png', segmented_from_previous[1])\n",
    "cv2.imwrite('figures/object_segmentation/segmented_from_previous2.png', segmented_from_previous[len(frames)-1])"
   ]
  },
  {
   "source": [
    "### Applying clasification threshold"
   ],
   "cell_type": "markdown",
   "metadata": {}
  },
  {
   "source": [
    "# classification threshold\n",
    "classified_from_previous = ICV_threshold_classification(segmented_from_previous, threshold)\n",
    "ICV_play_video(classified_from_previous)\n",
    "cv2.imwrite('figures/object_segmentation/classified_from_previous.png', classified_from_previous[1])\n",
    "cv2.imwrite('figures/object_segmentation/classified_from_previous2.png', classified_from_previous[len(frames)-1])"
   ],
   "cell_type": "code",
   "metadata": {},
   "execution_count": null,
   "outputs": []
  },
  {
   "source": [
    "## Question 5C"
   ],
   "cell_type": "markdown",
   "metadata": {}
  },
  {
   "source": [
    "### Generate Background"
   ],
   "cell_type": "markdown",
   "metadata": {}
  },
  {
   "cell_type": "code",
   "execution_count": null,
   "metadata": {
    "tags": []
   },
   "outputs": [],
   "source": [
    "# get background\n",
    "background = ICV_get_background(frames)\n",
    "ICV_show_img(background, 'bg')\n",
    "cv2.imwrite('figures/object_segmentation/background.png', background)"
   ]
  },
  {
   "source": [
    "## Question 5D"
   ],
   "cell_type": "markdown",
   "metadata": {}
  },
  {
   "source": [
    "### Compute frame differencing with background as reference frame"
   ],
   "cell_type": "markdown",
   "metadata": {}
  },
  {
   "cell_type": "code",
   "execution_count": null,
   "metadata": {},
   "outputs": [],
   "source": [
    "# frame differencing with respect to background\n",
    "segmented_from_background = ICV_compute_segmentation(frames, background)\n",
    "classified_from_background = ICV_threshold_classification(segmented_from_background, threshold)\n",
    "cv2.imwrite('figures/object_segmentation/first_frame_from_background.png', classified_from_background[0])"
   ]
  },
  {
   "source": [
    "### Interpolate the blobs to remove noise"
   ],
   "cell_type": "markdown",
   "metadata": {}
  },
  {
   "cell_type": "code",
   "execution_count": null,
   "metadata": {},
   "outputs": [],
   "source": [
    "interpolate_level = 7\n",
    "\n",
    "interpolated_frames = ICV_interpolate_frames(classified_from_background, interpolate_level)\n",
    "ICV_show_img(interpolated_frames[0], '1')\n",
    "cv2.imwrite('figures/object_segmentation/first_frame_interpolated.png', interpolated_frames[0])\n",
    "cv2.imwrite('figures/object_segmentation/last_frame_interpolated.png', interpolated_frames[len(interpolated_frames)-1])"
   ]
  },
  {
   "source": [
    "### Display the interpolated image of blobs"
   ],
   "cell_type": "markdown",
   "metadata": {}
  },
  {
   "cell_type": "code",
   "execution_count": null,
   "metadata": {},
   "outputs": [],
   "source": [
    "ICV_show_img(interpolated_frames[1], '1')"
   ]
  },
  {
   "source": [
    "### Object count throughout the video sequence\n",
    "\n"
   ],
   "cell_type": "markdown",
   "metadata": {}
  },
  {
   "cell_type": "code",
   "execution_count": null,
   "metadata": {},
   "outputs": [],
   "source": [
    "import scipy\n",
    "from scipy import ndimage\n",
    "import matplotlib.pyplot as plt\n",
    "\n",
    "object_count = []\n",
    "for frame in interpolated_frames:\n",
    "    im = ndimage.gaussian_filter(frame, 1)\n",
    "    blobs, count = ndimage.label(im)\n",
    "    object_count.append(count)\n",
    "\n",
    "x = np.arange(0, len(object_count))\n",
    "plt.bar(x, object_count)\n",
    "plt.xlabel('Frame number')\n",
    "plt.ylabel('Count')\n",
    "plt.title('Object Count per Frame')\n",
    "plt.savefig('figures/object_segmentation/object_count_graph.png')"
   ]
  },
  {
   "source": [
    "### Label objects BEFORE interpolation"
   ],
   "cell_type": "markdown",
   "metadata": {}
  },
  {
   "cell_type": "code",
   "execution_count": null,
   "metadata": {},
   "outputs": [],
   "source": [
    "blobs, count = ndimage.label(classified_from_background[0])\n",
    "print('Number of blobs:', count)\n",
    "\n",
    "plt.imshow(blobs)\n",
    "plt.xlabel('X')\n",
    "plt.ylabel('Y')\n",
    "plt.title('Identified features')\n",
    "plt.savefig('figures/object_segmentation/blob_count_original.png')\n",
    "plt.show()"
   ]
  },
  {
   "source": [
    "### Label objects AFTER interpolation"
   ],
   "cell_type": "markdown",
   "metadata": {}
  },
  {
   "cell_type": "code",
   "execution_count": null,
   "metadata": {},
   "outputs": [],
   "source": [
    "blobs, count = ndimage.label(interpolated_frames[0])\n",
    "print('Number of blobs:', count)\n",
    "\n",
    "plt.imshow(blobs)\n",
    "plt.xlabel('X')\n",
    "plt.ylabel('Y')\n",
    "plt.title('Identified features')\n",
    "plt.savefig('figures/object_segmentation/blob_count_interpolated.png')\n",
    "plt.show()"
   ]
  },
  {
   "cell_type": "code",
   "execution_count": null,
   "metadata": {},
   "outputs": [],
   "source": []
  },
  {
   "cell_type": "code",
   "execution_count": null,
   "metadata": {},
   "outputs": [],
   "source": []
  }
 ]
}